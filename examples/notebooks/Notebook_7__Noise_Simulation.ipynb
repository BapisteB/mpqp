{
 "cells": [
  {
   "cell_type": "markdown",
   "metadata": {},
   "source": [
    "## Simulating noise on MPQP\n",
    "\n",
    "Quantum computers hold immense potential, but a major hurdle is ``noise``. ``Noise`` refers to anything that disrupts a quantum computer's calculations.\n",
    "\n",
    "In this Notebook, we introduce the concept of ``noise`` in quantum computing and how to run noisy simulations by defining noise models and adding then to a ``QCircuit``. We'll take a practical approach to describing how noise affects qubits in a computation and show how you can build `Depolarizing` noise channel. \n",
    "\n",
    "If you are not familiar with the basic concepts of noise for quantum systems, we recommand you this introduction `TODO`"
   ]
  },
  {
   "cell_type": "markdown",
   "metadata": {},
   "source": [
    "### General imports\n"
   ]
  },
  {
   "cell_type": "code",
   "execution_count": 12,
   "metadata": {},
   "outputs": [],
   "source": [
    "from mpqp.all import *\n",
    "from mpqp.gates import *\n",
    "from mpqp.noise import Depolarizing\n",
    "from mpqp.measures import BasisMeasure\n",
    "from mpqp.execution import *"
   ]
  },
  {
   "cell_type": "code",
   "execution_count": null,
   "metadata": {},
   "outputs": [],
   "source": []
  },
  {
   "cell_type": "markdown",
   "metadata": {},
   "source": [
    "## Types of Noise in Quantum Simulations\n",
    "\n",
    "There are different noise types in quantum computing simulations but here we just focus on ``Depolarizing Noise``, which is a combination of bit-flip and phase-flip errors, causing the qubit to lose its quantum information.\n",
    "\n",
    "### Depolarizing noise implemented in MPQP\n",
    "\n",
    "##### Instantiate your noise model\n",
    "\n",
    "In MPQP, the abstract class ``NoiseModel`` represents noisy channels acting on the qubits of the circuit, either after each gate application, or as an interaction with the environement (what is called idle noise). Each predefined noise model should extend this class, which has common attributes ``targets`` (indicating the indices of the qubits affected by this noise model) and the optional ``gates`` (indicating specific gates after which the noise will be applied)\n",
    "\n",
    "For example, if one wants to apply a depolarizing noise on the circuit, he can use the class ``Depolarizing``. We must to specify as first argument the probability, or the error rate of the channel, the ``Depolarizing`` class can be applied to one or more qubits specified by the ``targets`` list. Additionally, the ``dimension`` parameter allows targeting specific gates within a quantum circuit. \n",
    "\n",
    "This flexibility allows researchers to simulate noise in various scenarios."
   ]
  },
  {
   "cell_type": "code",
   "execution_count": 2,
   "metadata": {},
   "outputs": [
    {
     "data": {
      "text/plain": [
       "Depolarizing(0.5, [0, 1, 2], 1)"
      ]
     },
     "execution_count": 2,
     "metadata": {},
     "output_type": "execute_result"
    }
   ],
   "source": [
    "Depolarizing(0.5, [0, 1, 2]) # noise applied to qubit0, qubit1 and qubit2"
   ]
  },
  {
   "cell_type": "markdown",
   "metadata": {},
   "source": [
    "``dimension`` is by default equal to 1."
   ]
  },
  {
   "cell_type": "code",
   "execution_count": 3,
   "metadata": {},
   "outputs": [
    {
     "data": {
      "text/plain": [
       "Depolarizing(0.5, [0, 1, 2], 2, [CNOT, CZ])"
      ]
     },
     "execution_count": 3,
     "metadata": {},
     "output_type": "execute_result"
    }
   ],
   "source": [
    "Depolarizing(0.5, [0, 1, 2], dimension=2)\n",
    "Depolarizing(0.5, [0, 1, 2], gates=[H, Rx, U])\n",
    "Depolarizing(0.5, [0, 1, 2], dimension=2, gates=[CNOT, CZ]) # when the dimension is 2, the specified gates must be 2-qubit gates"
   ]
  },
  {
   "cell_type": "code",
   "execution_count": null,
   "metadata": {},
   "outputs": [],
   "source": []
  },
  {
   "cell_type": "markdown",
   "metadata": {},
   "source": [
    "### Adding noise to the circuit - several cases"
   ]
  },
  {
   "cell_type": "code",
   "execution_count": 2,
   "metadata": {},
   "outputs": [],
   "source": [
    "# 1- using direct instantiation\n",
    "circuit_1 = QCircuit([H(0), CNOT(0,1), Y(1), BasisMeasure([0,1], shots=100), Depolarizing(0.3, [0], gates=[H])])"
   ]
  },
  {
   "cell_type": "code",
   "execution_count": 3,
   "metadata": {},
   "outputs": [
    {
     "data": {
      "text/plain": [
       "QCircuit([H(0), CNOT(0,1), Y(1), BasisMeasure(0, 1, shots=100), Depolarizing(0.3, [0], 1, [H])], nb_qubits=2, nb_cbits=2, label=\"None\")"
      ]
     },
     "execution_count": 3,
     "metadata": {},
     "output_type": "execute_result"
    }
   ],
   "source": [
    "circuit_1 # repr"
   ]
  },
  {
   "cell_type": "code",
   "execution_count": 4,
   "metadata": {},
   "outputs": [
    {
     "name": "stdout",
     "output_type": "stream",
     "text": [
      "     ┌───┐          ┌─┐   \n",
      "q_0: ┤ H ├──■───────┤M├───\n",
      "     └───┘┌─┴─┐┌───┐└╥┘┌─┐\n",
      "q_1: ─────┤ X ├┤ Y ├─╫─┤M├\n",
      "          └───┘└───┘ ║ └╥┘\n",
      "c: 2/════════════════╩══╩═\n",
      "                     0  1 \n",
      "NoiseModel: Depolarizing(0.3, [0], 1, [H])\n"
     ]
    }
   ],
   "source": [
    "print(circuit_1)"
   ]
  },
  {
   "cell_type": "code",
   "execution_count": 5,
   "metadata": {},
   "outputs": [
    {
     "name": "stdout",
     "output_type": "stream",
     "text": [
      "QCircuit : Size (Qubits,Cbits) = (2, 2), Nb instructions = 4\n",
      "Depolarizing noise: probability 0.3 on qubits [0] for gates [H]\n",
      "     ┌───┐          ┌─┐   \n",
      "q_0: ┤ H ├──■───────┤M├───\n",
      "     └───┘┌─┴─┐┌───┐└╥┘┌─┐\n",
      "q_1: ─────┤ X ├┤ Y ├─╫─┤M├\n",
      "          └───┘└───┘ ║ └╥┘\n",
      "c: 2/════════════════╩══╩═\n",
      "                     0  1 \n"
     ]
    }
   ],
   "source": [
    "circuit_1.pretty_print() # pretty print of the circuit"
   ]
  },
  {
   "cell_type": "code",
   "execution_count": 7,
   "metadata": {},
   "outputs": [],
   "source": [
    "# 2- using add method\n",
    "circuit_2 = QCircuit([H(0), CNOT(0,1), Y(1), BasisMeasure([0,1], shots=100)]) # measurments must span the whole circuit\n",
    "circuit_2.add([Depolarizing(0.3, [0]), Depolarizing(0.13, [1])])"
   ]
  },
  {
   "cell_type": "code",
   "execution_count": 8,
   "metadata": {},
   "outputs": [
    {
     "name": "stdout",
     "output_type": "stream",
     "text": [
      "[Depolarizing(0.3, [0], 1, [H])]\n"
     ]
    }
   ],
   "source": [
    "print(circuit_1.noises) # check the applied noise types"
   ]
  },
  {
   "cell_type": "code",
   "execution_count": 9,
   "metadata": {},
   "outputs": [
    {
     "name": "stdout",
     "output_type": "stream",
     "text": [
      "QCircuit : Size (Qubits,Cbits) = (2, 2), Nb instructions = 4\n",
      "Depolarizing noise: probability 0.3 on qubits [0]\n",
      "Depolarizing noise: probability 0.13 on qubits [1]\n",
      "     ┌───┐          ┌─┐   \n",
      "q_0: ┤ H ├──■───────┤M├───\n",
      "     └───┘┌─┴─┐┌───┐└╥┘┌─┐\n",
      "q_1: ─────┤ X ├┤ Y ├─╫─┤M├\n",
      "          └───┘└───┘ ║ └╥┘\n",
      "c: 2/════════════════╩══╩═\n",
      "                     0  1 \n"
     ]
    }
   ],
   "source": [
    "circuit_2.pretty_print()"
   ]
  },
  {
   "cell_type": "code",
   "execution_count": null,
   "metadata": {},
   "outputs": [],
   "source": []
  },
  {
   "cell_type": "markdown",
   "metadata": {},
   "source": [
    "### without_noises\n",
    "Remove the applied noise models from the circuit"
   ]
  },
  {
   "cell_type": "code",
   "execution_count": 10,
   "metadata": {},
   "outputs": [
    {
     "name": "stdout",
     "output_type": "stream",
     "text": [
      "     ┌───┐          ┌─┐   \n",
      "q_0: ┤ H ├──■───────┤M├───\n",
      "     └───┘┌─┴─┐┌───┐└╥┘┌─┐\n",
      "q_1: ─────┤ X ├┤ Y ├─╫─┤M├\n",
      "          └───┘└───┘ ║ └╥┘\n",
      "c: 2/════════════════╩══╩═\n",
      "                     0  1 \n"
     ]
    }
   ],
   "source": [
    "print(circuit_1.without_noises())"
   ]
  },
  {
   "cell_type": "code",
   "execution_count": null,
   "metadata": {},
   "outputs": [],
   "source": []
  },
  {
   "cell_type": "markdown",
   "metadata": {},
   "source": [
    "### to_other_language\n",
    "Transforms the circuit into the corresponding circuit in the language specified.\n",
    "\n",
    "Here, ``MPQP`` circuit into ``AWS-Braket`` circuit"
   ]
  },
  {
   "cell_type": "code",
   "execution_count": 13,
   "metadata": {},
   "outputs": [
    {
     "name": "stderr",
     "output_type": "stream",
     "text": [
      "UnsupportedBraketFeaturesWarning: \n",
      "This program uses OpenQASM language features that may not be supported on QPUs or on-demand simulators.\n",
      "\n"
     ]
    },
    {
     "name": "stdout",
     "output_type": "stream",
     "text": [
      "T  : │         0         │         1          │         2          │\n",
      "      ┌───┐ ┌───────────┐       ┌───────────┐                       \n",
      "q0 : ─┤ H ├─┤ DEPO(0.3) ├───●───┤ DEPO(0.3) ├───────────────────────\n",
      "      └───┘ └───────────┘   │   └───────────┘                       \n",
      "                          ┌─┴─┐ ┌────────────┐ ┌───┐ ┌────────────┐ \n",
      "q1 : ─────────────────────┤ X ├─┤ DEPO(0.13) ├─┤ Y ├─┤ DEPO(0.13) ├─\n",
      "                          └───┘ └────────────┘ └───┘ └────────────┘ \n",
      "T  : │         0         │         1          │         2          │\n"
     ]
    }
   ],
   "source": [
    "noisy_braket_circuit = circuit_2.to_other_language(Language.BRAKET)\n",
    "print(noisy_braket_circuit)"
   ]
  },
  {
   "cell_type": "code",
   "execution_count": null,
   "metadata": {},
   "outputs": [],
   "source": []
  },
  {
   "cell_type": "markdown",
   "metadata": {},
   "source": [
    "## Running on AWS devices"
   ]
  },
  {
   "cell_type": "markdown",
   "metadata": {},
   "source": [
    "##### Get all supported devices "
   ]
  },
  {
   "cell_type": "code",
   "execution_count": 23,
   "metadata": {},
   "outputs": [
    {
     "name": "stdout",
     "output_type": "stream",
     "text": [
      "BRAKET_LOCAL_SIMULATOR | LocalSimulator\n",
      "BRAKET_SV1_SIMULATOR | quantum-simulator/amazon/sv1\n",
      "BRAKET_DM1_SIMULATOR | quantum-simulator/amazon/dm1\n",
      "BRAKET_TN1_SIMULATOR | quantum-simulator/amazon/tn1\n",
      "BRAKET_IONQ_HARMONY | qpu/ionq/Harmony\n",
      "BRAKET_IONQ_ARIA_1 | qpu/ionq/Aria-1\n",
      "BRAKET_IONQ_ARIA_2 | qpu/ionq/Aria-2\n",
      "BRAKET_IONQ_FORTE_1 | qpu/ionq/Forte-1\n",
      "BRAKET_OQC_LUCY | qpu/oqc/Lucy\n",
      "BRAKET_QUERA_AQUILA | qpu/quera/Aquila\n",
      "BRAKET_RIGETTI_ASPEN_M_3 | qpu/rigetti/Aspen-M-3\n"
     ]
    }
   ],
   "source": [
    "for device in AWSDevice:\n",
    "    print(device.name, \"|\", device.value)\n"
   ]
  },
  {
   "cell_type": "markdown",
   "metadata": {},
   "source": [
    "##### Check only the noisy simulators"
   ]
  },
  {
   "cell_type": "code",
   "execution_count": 22,
   "metadata": {},
   "outputs": [
    {
     "name": "stdout",
     "output_type": "stream",
     "text": [
      "BRAKET_LOCAL_SIMULATOR | LocalSimulator\n",
      "BRAKET_SV1_SIMULATOR | quantum-simulator/amazon/sv1\n",
      "BRAKET_DM1_SIMULATOR | quantum-simulator/amazon/dm1\n",
      "BRAKET_TN1_SIMULATOR | quantum-simulator/amazon/tn1\n"
     ]
    }
   ],
   "source": [
    "for device in AWSDevice:\n",
    "    if device.is_noisy_simulator():\n",
    "        print(device.name, \"|\", device.value)"
   ]
  },
  {
   "cell_type": "code",
   "execution_count": null,
   "metadata": {},
   "outputs": [],
   "source": []
  },
  {
   "cell_type": "markdown",
   "metadata": {},
   "source": [
    "### Run the circuit on a noisy simulator"
   ]
  },
  {
   "cell_type": "code",
   "execution_count": 16,
   "metadata": {},
   "outputs": [
    {
     "name": "stderr",
     "output_type": "stream",
     "text": [
      "\n"
     ]
    },
    {
     "name": "stdout",
     "output_type": "stream",
     "text": [
      "Result: AWSDevice, BRAKET_LOCAL_SIMULATOR\n",
      "Counts: [20, 34, 35, 11]\n",
      "Probabilities: [0.2  0.34 0.35 0.11]\n",
      "State: 00, Index: 0, Count: 20, Probability: 0.2\n",
      "State: 01, Index: 1, Count: 34, Probability: 0.34\n",
      "State: 10, Index: 2, Count: 35, Probability: 0.35\n",
      "State: 11, Index: 3, Count: 11, Probability: 0.11\n",
      "Error: None\n",
      "\n",
      "\n"
     ]
    }
   ],
   "source": [
    "# select the local noise simulator\n",
    "device = AWSDevice.BRAKET_LOCAL_SIMULATOR\n",
    "\n",
    "# run the circuit on the local simulator\n",
    "result = run(circuit_2, device) # this line is valid for both noisy and non noisy cases\n",
    "\n",
    "print(result)"
   ]
  },
  {
   "cell_type": "code",
   "execution_count": null,
   "metadata": {},
   "outputs": [],
   "source": []
  }
 ],
 "metadata": {
  "kernelspec": {
   "display_name": "Python 3",
   "language": "python",
   "name": "python3"
  },
  "language_info": {
   "codemirror_mode": {
    "name": "ipython",
    "version": 3
   },
   "file_extension": ".py",
   "mimetype": "text/x-python",
   "name": "python",
   "nbconvert_exporter": "python",
   "pygments_lexer": "ipython3",
   "version": "3.9.18"
  }
 },
 "nbformat": 4,
 "nbformat_minor": 2
}
