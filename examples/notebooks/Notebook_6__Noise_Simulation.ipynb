{
 "cells": [
  {
   "cell_type": "markdown",
   "metadata": {},
   "source": [
    "## Simulating noise on MPQP\n",
    "\n",
    "Quantum computers hold immense potential, but a major hurdle is ``noise``. ``Noise`` refers to anything that disrupts a quantum computer's calculations.\n",
    "\n",
    "In this Notebook, we introduce the concept of ``noise`` in quantum computing. We'll take a practical approach to describing how noise affects qubits in a computation and show how you can build `Depolarizing` noise channel. "
   ]
  },
  {
   "cell_type": "markdown",
   "metadata": {},
   "source": [
    "### General imports"
   ]
  },
  {
   "cell_type": "code",
   "execution_count": 1,
   "metadata": {},
   "outputs": [],
   "source": [
    "import os, sys\n",
    "sys.path.insert(0, os.path.abspath(\"../..\"))\n",
    "\n",
    "from mpqp.all import *\n",
    "from mpqp.noise.noise_model import *\n",
    "from mpqp.execution.devices import AWSDevice"
   ]
  },
  {
   "cell_type": "code",
   "execution_count": 2,
   "metadata": {},
   "outputs": [],
   "source": [
    "# build your circuit\n",
    "circuit = QCircuit(3, label=\"Noise-Simulation\")\n",
    "circuit.add([H(0), CNOT(0,1), T(2)])"
   ]
  },
  {
   "cell_type": "markdown",
   "metadata": {},
   "source": [
    "## Types of Noise in Quantum Simulations\n",
    "\n",
    "There are different noise types in quantum computing simulations but here we just focus on ``Depolarizing Noise``, which is a combination of bit-flip and phase-flip errors, causing the qubit to lose its quantum information.\n",
    "\n",
    "#### Depolarizing noise implemented in MPQP\n",
    "The Depolarizing class can be applied to one or more qubits specified by the ``targets`` list. Additionally, the ``dimension`` parameter allows targeting specific gates within a quantum circuit. This flexibility allows researchers to simulate noise in various scenarios.\n"
   ]
  },
  {
   "cell_type": "code",
   "execution_count": 3,
   "metadata": {},
   "outputs": [],
   "source": [
    "# define a depolarizing noise channel\n",
    "depolarizing_noise = Depolarizing(prob=0.4, targets=[0, 1])"
   ]
  },
  {
   "cell_type": "code",
   "execution_count": 4,
   "metadata": {},
   "outputs": [],
   "source": [
    "# apply depolarizing noise to the circuit\n",
    "circuit.add(depolarizing_noise)"
   ]
  },
  {
   "cell_type": "code",
   "execution_count": 6,
   "metadata": {},
   "outputs": [],
   "source": [
    "# add measurements\n",
    "circuit.add(BasisMeasure([0, 1, 2], shots=1024))"
   ]
  },
  {
   "cell_type": "code",
   "execution_count": 5,
   "metadata": {},
   "outputs": [
    {
     "name": "stdout",
     "output_type": "stream",
     "text": [
      "QCircuit Noise-Simulation: Size (Qubits,Cbits) = (3, 2), Nb instructions = 4\n",
      "     ┌───┐     ┌─┐   \n",
      "q_0: ┤ H ├──■──┤M├───\n",
      "     └───┘┌─┴─┐└╥┘┌─┐\n",
      "q_1: ─────┤ X ├─╫─┤M├\n",
      "     ┌───┐└───┘ ║ └╥┘\n",
      "q_2: ┤ T ├──────╫──╫─\n",
      "     └───┘      ║  ║ \n",
      "c: 2/═══════════╩══╩═\n",
      "                0  1 \n"
     ]
    }
   ],
   "source": [
    "circuit.pretty_print()"
   ]
  },
  {
   "cell_type": "code",
   "execution_count": 7,
   "metadata": {},
   "outputs": [],
   "source": [
    "# select the local noise simulator\n",
    "device = AWSDevice.BRAKET_LOCAL_SIMULATOR"
   ]
  },
  {
   "cell_type": "code",
   "execution_count": 8,
   "metadata": {},
   "outputs": [
    {
     "name": "stderr",
     "output_type": "stream",
     "text": [
      "UnsupportedBraketFeaturesWarning: \n",
      "This program uses OpenQASM language features that may not be supported on QPUs or on-demand simulators.\n",
      "\n"
     ]
    }
   ],
   "source": [
    "# run the circuit on the local simulator\n",
    "result = run(circuit, device)"
   ]
  },
  {
   "cell_type": "code",
   "execution_count": 9,
   "metadata": {},
   "outputs": [
    {
     "name": "stdout",
     "output_type": "stream",
     "text": [
      "Result: AWSDevice, BRAKET_LOCAL_SIMULATOR\n",
      "Counts: [297, 0, 207, 0, 205, 0, 315, 0]\n",
      "Probabilities: [0.29003906 0.         0.20214844 0.         0.20019531 0.  0.30761719 0.        ]\n",
      "State: 110, Index: 6, Count: 315, Probability: 0.3076171875\n",
      "State: 100, Index: 4, Count: 205, Probability: 0.2001953125\n",
      "State: 010, Index: 2, Count: 207, Probability: 0.2021484375\n",
      "State: 000, Index: 0, Count: 297, Probability: 0.2900390625\n",
      "Error: None\n",
      "\n",
      "\n"
     ]
    }
   ],
   "source": [
    "print(result)"
   ]
  },
  {
   "cell_type": "code",
   "execution_count": null,
   "metadata": {},
   "outputs": [],
   "source": []
  }
 ],
 "metadata": {
  "kernelspec": {
   "display_name": "Python 3",
   "language": "python",
   "name": "python3"
  },
  "language_info": {
   "codemirror_mode": {
    "name": "ipython",
    "version": 3
   },
   "file_extension": ".py",
   "mimetype": "text/x-python",
   "name": "python",
   "nbconvert_exporter": "python",
   "pygments_lexer": "ipython3",
   "version": "3.9.18"
  }
 },
 "nbformat": 4,
 "nbformat_minor": 2
}
