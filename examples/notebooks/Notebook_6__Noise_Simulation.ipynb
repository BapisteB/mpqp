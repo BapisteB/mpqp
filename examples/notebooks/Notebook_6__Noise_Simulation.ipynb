{
 "cells": [
  {
   "cell_type": "markdown",
   "metadata": {},
   "source": [
    "# Simulating noisy circuits\n",
    "\n",
    "In this notebook we present how run noisy simulations by defining noise models and adding then to a ``QCircuit``.\n",
    "\n",
    "If you are not familiar with the basic concepts of noise for quantum systems, we recommand you this introduction `TODO`"
   ]
  },
  {
   "cell_type": "code",
   "execution_count": 94,
   "metadata": {},
   "outputs": [],
   "source": [
    "from mpqp import QCircuit\n",
    "from mpqp.gates import *\n",
    "from mpqp.noise import Depolarizing\n",
    "from mpqp.execution import *"
   ]
  },
  {
   "cell_type": "markdown",
   "metadata": {},
   "source": [
    "### Defining your noise model"
   ]
  },
  {
   "cell_type": "markdown",
   "metadata": {},
   "source": [
    "``NoiseModel``, ``targets``, ``gates``\n",
    "\n",
    "``Depolarizing``, ``proba``, ``dimension``"
   ]
  },
  {
   "cell_type": "code",
   "execution_count": null,
   "metadata": {},
   "outputs": [],
   "source": [
    "Depolarizing(0.5, [0, 1, 2])\n",
    "Depolarizing(0.5, [0, 1, 2], dimension=2)\n",
    "Depolarizing(0.5, [0, 1, 2], gates=[H, Rx, U])\n",
    "Depolarizing(0.5, [0, 1, 2], dimension=2, gates=[CNOT, CZ])"
   ]
  },
  {
   "cell_type": "markdown",
   "metadata": {},
   "source": [
    "### Adding noise to the circuit"
   ]
  },
  {
   "cell_type": "code",
   "execution_count": null,
   "metadata": {},
   "outputs": [],
   "source": [
    "# using add\n",
    "\n",
    "# using direct instantiation\n",
    "\n",
    "# circuit.noises\n",
    "\n",
    "# circuit.without_noises()\n",
    "\n",
    "# circuit.to_other_language(Language.BRAKET)\n",
    "\n",
    "# circuit.pretty_print()"
   ]
  },
  {
   "cell_type": "code",
   "execution_count": 95,
   "metadata": {},
   "outputs": [],
   "source": [
    "# build your circuit\n",
    "circuit = QCircuit(3, label=\"Noise-Simulation\")\n",
    "circuit.add([H(0), CNOT(0,1), T(2)])"
   ]
  },
  {
   "cell_type": "code",
   "execution_count": 96,
   "metadata": {},
   "outputs": [],
   "source": [
    "# define a depolarizing noise channel\n",
    "depolarizing_noise = Depolarizing(prob=0.4, targets=[0, 1])"
   ]
  },
  {
   "cell_type": "code",
   "execution_count": 97,
   "metadata": {},
   "outputs": [],
   "source": [
    "# apply depolarizing noise to the circuit\n",
    "circuit.add(depolarizing_noise)"
   ]
  },
  {
   "cell_type": "code",
   "execution_count": 98,
   "metadata": {},
   "outputs": [],
   "source": [
    "# add measurements\n",
    "circuit.add(BasisMeasure([0, 1, 2], shots=1024))"
   ]
  },
  {
   "cell_type": "code",
   "execution_count": 99,
   "metadata": {},
   "outputs": [
    {
     "name": "stdout",
     "output_type": "stream",
     "text": [
      "QCircuit Noise-Simulation: Size (Qubits,Cbits) = (3, 3), Nb instructions = 4\n",
      "Depolarizing noise: probability 0.4 on qubits [0, 1]\n",
      "     ┌───┐     ┌─┐   \n",
      "q_0: ┤ H ├──■──┤M├───\n",
      "     └───┘┌─┴─┐└╥┘┌─┐\n",
      "q_1: ─────┤ X ├─╫─┤M├\n",
      "     ┌───┐└┬─┬┘ ║ └╥┘\n",
      "q_2: ┤ T ├─┤M├──╫──╫─\n",
      "     └───┘ └╥┘  ║  ║ \n",
      "c: 3/═══════╩═══╩══╩═\n",
      "            2   0  1 \n"
     ]
    }
   ],
   "source": [
    "circuit.pretty_print()"
   ]
  },
  {
   "cell_type": "markdown",
   "metadata": {},
   "source": [
    "### Running on noisy simulators"
   ]
  },
  {
   "cell_type": "code",
   "execution_count": null,
   "metadata": {},
   "outputs": [],
   "source": [
    "# device.is_noisy()\n",
    "\n",
    "# which device is supported\n",
    "\n",
    "# run as any other computation\n",
    "\n",
    "# observable and sample jobs only"
   ]
  },
  {
   "cell_type": "code",
   "execution_count": 100,
   "metadata": {},
   "outputs": [],
   "source": [
    "# select the local noise simulator\n",
    "device = AWSDevice.BRAKET_LOCAL_SIMULATOR"
   ]
  },
  {
   "cell_type": "code",
   "execution_count": 101,
   "metadata": {},
   "outputs": [
    {
     "name": "stderr",
     "output_type": "stream",
     "text": [
      "\n"
     ]
    }
   ],
   "source": [
    "# run the circuit on the local simulator\n",
    "result = run(circuit, device)"
   ]
  },
  {
   "cell_type": "code",
   "execution_count": 8,
   "metadata": {},
   "outputs": [
    {
     "name": "stdout",
     "output_type": "stream",
     "text": [
      "Result: AWSDevice, BRAKET_LOCAL_SIMULATOR\n",
      "Counts: [478, 0, 0, 0, 0, 0, 546, 0]\n",
      "Probabilities: [0.46679688 0.         0.         0.         0.         0.  0.53320312 0.        ]\n",
      "State: 110, Index: 6, Count: 546, Probability: 0.533203125\n",
      "State: 000, Index: 0, Count: 478, Probability: 0.466796875\n",
      "Error: None\n",
      "\n",
      "\n"
     ]
    }
   ],
   "source": [
    "print(result)"
   ]
  },
  {
   "cell_type": "code",
   "execution_count": null,
   "metadata": {},
   "outputs": [],
   "source": []
  }
 ],
 "metadata": {
  "kernelspec": {
   "display_name": "Python 3",
   "language": "python",
   "name": "python3"
  },
  "language_info": {
   "codemirror_mode": {
    "name": "ipython",
    "version": 3
   },
   "file_extension": ".py",
   "mimetype": "text/x-python",
   "name": "python",
   "nbconvert_exporter": "python",
   "pygments_lexer": "ipython3",
   "version": "3.9.18"
  }
 },
 "nbformat": 4,
 "nbformat_minor": 2
}
