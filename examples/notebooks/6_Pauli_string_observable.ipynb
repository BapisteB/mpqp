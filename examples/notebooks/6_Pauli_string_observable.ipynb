{
 "cells": [
  {
   "cell_type": "markdown",
   "id": "379bbaec",
   "metadata": {},
   "source": [
    "# Observable and Pauli String representation\n",
    "\n",
    "This notebook provides an exploration of quantum circuit observable representation and the creation and manipulation of PauliString objects.\n",
    "### Overview :\n",
    "- **PauliString**: This class allows for the creation, manipulation, and arithmetic operations on Pauli strings.\n",
    "- **Observables**: You can define an `Observable` using Hermitian matrices or Pauli strings. Both approaches provide flexibility in specifying observables for quantum measurements.\n",
    "- **ExpectationMeasure**: Create and run quantum circuits with `ExpectationMeasure` to calculate expectation values of observables."
   ]
  },
  {
   "cell_type": "code",
   "execution_count": 1,
   "id": "9c710ce5",
   "metadata": {},
   "outputs": [
    {
     "name": "stderr",
     "output_type": "stream",
     "text": [
      "<frozen importlib._bootstrap>:228: RuntimeWarning: scipy._lib.messagestream.MessageStream size changed, may indicate binary incompatibility. Expected 56 from C header, got 64 from PyObject\n"
     ]
    }
   ],
   "source": [
    "from mpqp.measures import I, X, Y, Z, Observable, ExpectationMeasure\n",
    "\n",
    "from mpqp import QCircuit\n",
    "from mpqp.gates import H, Rx\n",
    "from mpqp.execution import run\n",
    "from mpqp.execution.devices import IBMDevice, ATOSDevice, AWSDevice\n",
    "\n",
    "import numpy as np"
   ]
  },
  {
   "cell_type": "markdown",
   "id": "b9eaab9f",
   "metadata": {},
   "source": [
    "> ⚠ **pauli_string import**: pauli atoms are named I, X, Y, and Z. If you have conflicts with `mpqp.gates import X, Y, Z,` , you can:\n",
    "> - **Rename Import:**\n",
    ">    ```python \n",
    ">    from mpqp.core.instruction.measurement.pauli_string import X as Pauli_X \n",
    ">    ```\n",
    "> - **Import Only Pauli String:**\n",
    ">    ```python\n",
    ">    from mpqp.core.instruction.measurement import pauli_string \n",
    ">    pauli_string.X \n",
    ">    ```"
   ]
  },
  {
   "cell_type": "markdown",
   "id": "1c7d85d6",
   "metadata": {},
   "source": [
    "## PauliString\n",
    "\n",
    "A `PauliString` is based on the following hierarchy:\n",
    "- an *atom* is the most elemental building brick of pauli string, it it either\n",
    "  `I`, `X`, `Y` or `Z`;\n",
    "- a *monomial* is a tensor product of *atoms* multiplied by a real coefficient,\n",
    "  for instance `0.3 * I⊗Z⊗Y`. In MPQP, the tensor product is denoted as `@`, so\n",
    "  the previous example would be expressed as `0.3 * I@Z@Y`;\n",
    "- a *string* is a sum of *monomials*, for instance `0.3 * I@Z@Y + X@X@X`.\n",
    "\n",
    "In practice, you never need to handle these types independently, you can express\n",
    "everything in term of expression based on the fundamental atoms. Let's see how."
   ]
  },
  {
   "cell_type": "markdown",
   "id": "a8a9786e",
   "metadata": {},
   "source": [
    "### Creating and Manipulating PauliString Objects\n",
    "\n",
    "Let's illustrate how to create and manipulate PauliString objects:"
   ]
  },
  {
   "cell_type": "code",
   "execution_count": 2,
   "id": "d5a713d6",
   "metadata": {},
   "outputs": [
    {
     "name": "stdout",
     "output_type": "stream",
     "text": [
      "ps_1=1*I@Z + -3*X@Y\n"
     ]
    }
   ],
   "source": [
    "ps_1 = I @ Z - 3 * X @ Y\n",
    "print(f\"{ps_1=}\")"
   ]
  },
  {
   "cell_type": "markdown",
   "id": "418742e8",
   "metadata": {},
   "source": [
    "#### Simplifying and Rounding PauliStrings\n",
    "\n",
    "When dealing with PauliStrings, simplification and rounding are common operations:\n",
    "\n",
    "- **Simplify**: We combine like terms and eliminate those with zero coefficients;\n",
    "- **Round**: We can round the coefficients to a specified number of decimals (5 by default).\n",
    "\n",
    "> `str` on a `PauliString` will call both methods: `round()` and `simplify()`"
   ]
  },
  {
   "cell_type": "code",
   "execution_count": 3,
   "id": "51f8fcc3",
   "metadata": {},
   "outputs": [
    {
     "name": "stdout",
     "output_type": "stream",
     "text": [
      "ps_2 = 1*I@Z + 2.555555555*Y@I + 1*X@Z + -1*X@Z\n",
      "     = 1*I@Z + 2.555555555*Y@I\n",
      "    ~= 1*I@Z + 2.6*Y@I + 1*X@Z + -1*X@Z\n",
      "    ~= 1*I@Z + 2.5556*Y@I\n"
     ]
    }
   ],
   "source": [
    "ps_2 = I @ Z + 2.555555555 * Y @ I + X @ Z - X @ Z\n",
    "print(\"ps_2 =\",repr(ps_2))\n",
    "print(\"     =\",repr(ps_2.simplify()))\n",
    "print(\"    ~=\",repr(ps_2.round(1)))\n",
    "print(\"    ~=\",ps_2)"
   ]
  },
  {
   "cell_type": "markdown",
   "id": "84c420e0",
   "metadata": {},
   "source": [
    "#### Arithmetic Operations\n",
    "\n",
    "We can perform various arithmetic operations on PauliString objects, including addition, subtraction, scalar multiplication, scalar division, and matrix multiplication:"
   ]
  },
  {
   "cell_type": "code",
   "execution_count": 5,
   "id": "c3d6c564",
   "metadata": {},
   "outputs": [
    {
     "name": "stdout",
     "output_type": "stream",
     "text": [
      "Addition:\n",
      "(1*I@Z + -3*X@Y) + (1*I@Z + 2.6*Y@I) = 2*I@Z + 2.6*Y@I + -3*X@Y\n",
      "\n",
      "Subtraction:\n",
      "(1*I@Z + -3*X@Y) - (1*I@Z + 2.6*Y@I) = -2.6*Y@I + -3*X@Y\n",
      "\n",
      "Scalar product:\n",
      "2 * (1*I@Z + -3*X@Y) = 2*I@Z + -6*X@Y\n",
      "\n",
      "Scalar division:\n",
      "(1*I@Z + 2.6*Y@I) / 3 ~= 0.3333*I@Z + 0.8667*Y@I\n",
      "\n",
      "Tensor product:\n",
      "(1*I@Z + -3*X@Y) @ Z = -3*X@Y@Z + 1*I@Z@Z\n",
      "\n",
      "(1*I@Z + -3*X@Y) @ (1*I@Z + 2.6*Y@I) = 1*I@Z@I@Z + -3*I@Z@X@Y + -7.8*Y@I@X@Y + 2.6*Y@I@I@Z\n"
     ]
    }
   ],
   "source": [
    "ps_2 = ps_2.round(1).simplify()\n",
    "print(f\"\"\"Addition:\n",
    "({ps_1}) + ({ps_2}) = {ps_1 + ps_2}\n",
    "\n",
    "Subtraction:\n",
    "({ps_1}) - ({ps_2}) = {ps_1 - ps_2}\n",
    "\n",
    "Scalar product:\n",
    "2 * ({ps_1}) = {2 * ps_1}\n",
    "\n",
    "Scalar division:\n",
    "({ps_2}) / 3 ~= {ps_2 / 3}\n",
    "\n",
    "Tensor product:\n",
    "({ps_1}) @ Z = {ps_1 @ Z}\n",
    "\n",
    "({ps_1}) @ ({ps_2}) = {ps_1 @ ps_2}\"\"\")"
   ]
  },
  {
   "cell_type": "markdown",
   "id": "a887be43",
   "metadata": {},
   "source": [
    "## Observable\n",
    "\n",
    "To compute the expectation value of the state generated by a circuit measured by\n",
    "an observable, we first define the observable. \n",
    "\n",
    "It can be instantiated either using a matrix (Hermitian) or a Pauli string."
   ]
  },
  {
   "cell_type": "code",
   "execution_count": 12,
   "id": "f23e61a1",
   "metadata": {},
   "outputs": [
    {
     "name": "stdout",
     "output_type": "stream",
     "text": [
      "`obs` was created from the matrix:\n",
      "[[0.65+0.j 0.5 +0.j 1.  +0.j 1.  +0.j]\n",
      " [0.5 +0.j 0.82+0.j 1.  +0.j 1.  +0.j]\n",
      " [1.  +0.j 1.  +0.j 1.  +0.j 0.33+0.j]\n",
      " [1.  +0.j 1.  +0.j 0.33+0.j 0.3 +0.j]]\n",
      "\n",
      "`obs2` was created from the Pauli string:\n",
      "1*I@Z + -3*X@Y\n"
     ]
    }
   ],
   "source": [
    "matrix = np.array(\n",
    "    [\n",
    "        [0.65, 0.5, 1, 1],\n",
    "        [0.5, 0.82, 1, 1],\n",
    "        [1, 1, 1, 0.33],\n",
    "        [1, 1, 0.33, 0.3],\n",
    "    ]\n",
    ")\n",
    "\n",
    "obs = Observable(matrix)\n",
    "\n",
    "print(\"`obs` was created from the matrix:\")\n",
    "print(obs.matrix)\n",
    "\n",
    "obs2 = Observable(ps_1)\n",
    "\n",
    "print(\"\\n`obs2` was created from the Pauli string:\")\n",
    "print(obs2.pauli_string)"
   ]
  },
  {
   "cell_type": "markdown",
   "id": "78281e52",
   "metadata": {},
   "source": [
    "Since there is an equivalence between definition from a Pauli string or from a\n",
    "Hermitian matrix, both these observable wan can also be expressed in term of the\n",
    "mean through which it was not defined (Pauli for matrix and vice versa):"
   ]
  },
  {
   "cell_type": "code",
   "execution_count": 13,
   "id": "3d63ceb1",
   "metadata": {},
   "outputs": [
    {
     "name": "stdout",
     "output_type": "stream",
     "text": [
      "`obs` as a Pauli string:\n",
      "0.0425*Z@I + -0.2175*Z@Z + 0.085*Z@X + 0.6925*I@I + 1*X@I + 0.1325*I@Z + 0.415*I@X + 1*X@X\n",
      "\n",
      "`obs2` as a matrix:\n",
      "[[ 1.+0.j  0.+0.j  0.+0.j  0.-3.j]\n",
      " [ 0.+0.j -1.+0.j  0.+3.j  0.+0.j]\n",
      " [ 0.+0.j  0.-3.j  1.+0.j  0.+0.j]\n",
      " [ 0.+3.j  0.+0.j  0.+0.j -1.+0.j]]\n"
     ]
    }
   ],
   "source": [
    "print(\"`obs` as a Pauli string:\")\n",
    "print(obs.pauli_string)\n",
    "\n",
    "print(\"\\n`obs2` as a matrix:\")\n",
    "print(obs2.matrix)"
   ]
  },
  {
   "cell_type": "markdown",
   "id": "a38a9612",
   "metadata": {},
   "source": [
    "## ExpectationMeasure\n",
    "\n",
    "Next, we create a quantum circuit to measure the expectation value of the observable. We add gates and the ExpectationMeasure to the circuit."
   ]
  },
  {
   "cell_type": "code",
   "execution_count": 8,
   "id": "9d47ded1",
   "metadata": {},
   "outputs": [],
   "source": [
    "circuit = QCircuit([\n",
    "    H(0), \n",
    "    Rx(1.76, 1), \n",
    "    ExpectationMeasure([0, 1], observable=obs, shots=1000),\n",
    "])"
   ]
  },
  {
   "cell_type": "markdown",
   "id": "55b86619",
   "metadata": {},
   "source": [
    "### Running the Circuit and Retrieving Results\n",
    "\n",
    "We run the circuit on different quantum simulators and retrieve the results."
   ]
  },
  {
   "cell_type": "code",
   "execution_count": 14,
   "id": "bd43482a",
   "metadata": {},
   "outputs": [
    {
     "name": "stderr",
     "output_type": "stream",
     "text": [
      "UnsupportedBraketFeaturesWarning: \n",
      "This program uses OpenQASM language features that may not be supported on QPUs or on-demand simulators.\n",
      "\n"
     ]
    },
    {
     "name": "stdout",
     "output_type": "stream",
     "text": [
      "BatchResult: 4 results\n",
      "Result: IBMDevice, AER_SIMULATOR\n",
      " Expectation value: 1.7161599964797496\n",
      " Error/Variance: 1.2440903362350237\n",
      "Result: ATOSDevice, MYQLM_CLINALG\n",
      " Expectation value: 1.6611499969959258\n",
      " Error/Variance: 0.035304078895363314\n",
      "Result: AWSDevice, BRAKET_LOCAL_SIMULATOR\n",
      " Expectation value: 1.7169993078883168\n",
      " Error/Variance: None\n",
      "Result: ATOSDevice, MYQLM_PYLINALG\n",
      " Expectation value: 1.6149999956786634\n",
      " Error/Variance: 0.03527477642013116\n",
      "\n"
     ]
    }
   ],
   "source": [
    "results = run(\n",
    "    circuit,\n",
    "    [\n",
    "        ATOSDevice.MYQLM_PYLINALG,\n",
    "        IBMDevice.AER_SIMULATOR,\n",
    "        ATOSDevice.MYQLM_CLINALG,\n",
    "        AWSDevice.BRAKET_LOCAL_SIMULATOR,\n",
    "    ],\n",
    ")\n",
    "print(results)"
   ]
  }
 ],
 "metadata": {
  "kernelspec": {
   "display_name": "Python 3",
   "language": "python",
   "name": "python3"
  },
  "language_info": {
   "codemirror_mode": {
    "name": "ipython",
    "version": 3
   },
   "file_extension": ".py",
   "mimetype": "text/x-python",
   "name": "python",
   "nbconvert_exporter": "python",
   "pygments_lexer": "ipython3",
   "version": "3.9.12"
  }
 },
 "nbformat": 4,
 "nbformat_minor": 5
}
